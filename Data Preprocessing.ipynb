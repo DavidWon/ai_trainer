{
 "cells": [
  {
   "cell_type": "code",
   "execution_count": 2,
   "metadata": {
    "collapsed": false
   },
   "outputs": [],
   "source": [
    "#=====[ Import dependencies ]====\n",
    "import pandas as pd\n",
    "import numpy as np\n",
    "import matplotlib.pyplot as plt\n",
    "import sys\n",
    "import pickle\n",
    "\n",
    "sys.path.append('data')\n",
    "sys.path.append('squat_pushupData_10to20')\n",
    "\n",
    "#=====[ Import Data ]=====\n",
    "# import coords1 as cd\n",
    "import coordKeys as keys\n",
    "import coordKeysZ as keysZ\n",
    "\n",
    "#=====[ Import Labels ]======\n",
    "import labels\n",
    "\n",
    "%matplotlib inline"
   ]
  },
  {
   "cell_type": "markdown",
   "metadata": {
    "collapsed": true
   },
   "source": [
    "#Step 1: Import Data"
   ]
  },
  {
   "cell_type": "code",
   "execution_count": 6,
   "metadata": {
    "collapsed": false
   },
   "outputs": [
    {
     "name": "stdout",
     "output_type": "stream",
     "text": [
      "(615, 75)\n",
      "(595, 75)\n"
     ]
    }
   ],
   "source": [
    "#=====[ Option 1: Import data from text file ] =====\n",
    "\n",
    "front_cut = 20\n",
    "back_cut = 0\n",
    "data = []\n",
    "with open('data/raw_data/squat_pushupData_10to20/squatData20.txt') as f:\n",
    "    for line in f:\n",
    "        data.append([float(x.replace('\\r\\n','')) for x in line.split(',')])\n",
    "\n",
    "df = pd.DataFrame(data, columns=keysZ.columns)\n",
    "df = df[front_cut:df.shape[0]-back_cut]\n",
    "df = df.set_index([range(0,df.shape[0])])\n",
    "#=====[ Option 2: Get data from python file and place in DataFrame ]=====\n",
    "# data = cd.data\n",
    "# df = pd.DataFrame(data,columns=keys.columns)"
   ]
  },
  {
   "cell_type": "markdown",
   "metadata": {},
   "source": [
    "#Step 2: Isolate Individual Squats"
   ]
  },
  {
   "cell_type": "code",
   "execution_count": 5,
   "metadata": {
    "collapsed": false,
    "scrolled": true
   },
   "outputs": [
    {
     "data": {
      "text/plain": [
       "[<matplotlib.lines.Line2D at 0x109316750>]"
      ]
     },
     "execution_count": 5,
     "metadata": {},
     "output_type": "execute_result"
    },
    {
     "data": {
      "image/png": "[encoded data removed]",
      "text/plain": [
       "<matplotlib.figure.Figure at 0x105d541d0>"
      ]
     },
     "metadata": {},
     "output_type": "display_data"
    }
   ],
   "source": [
    "#=====[ Extract y_coords for Neck -- provides a stable point of reference ]=====\n",
    "y_coords = np.array(df.get('NeckY'))\n",
    "plt.plot(y_coords,marker='+')"
   ]
  },
  {
   "cell_type": "markdown",
   "metadata": {},
   "source": [
    "#Get Max Indices"
   ]
  },
  {
   "cell_type": "code",
   "execution_count": 62,
   "metadata": {
    "collapsed": false
   },
   "outputs": [],
   "source": [
    "def is_min(y_coords, height, gradient, index, epsilon, beta):\n",
    "    if np.abs(y_coords[index] - height)/height < epsilon:\n",
    "        for i in range(1,beta):\n",
    "            if gradient[index - i] > 0 or gradient[index + i - 1] < 0:\n",
    "                return False\n",
    "        return True\n",
    "        \n",
    "def in_new_squat(y_coords, height, index, delta):\n",
    "    return abs((y_coords[index] - height)/height) > delta\n",
    "\n",
    "#=====[ Gets local maxes within accepted epsilon of global max and with max len(y_coors)/gamma maxes ]=====\n",
    "#=====[ For squats: usual epsilon ~ 0.1, gamma ~ 20, delta ~ 0.5, beta ~ 1 ]=====\n",
    "#=====[ For pushups: usual epsilon ~ 0.1, gamma ~ 20, delta ~ 0.2, beta ~ 1 ]=====\n",
    "\n",
    "def get_local_mins(y_coords, epsilon=0.2, gamma=20, delta=0.5, beta=1):\n",
    "    \n",
    "    local_mins = []\n",
    "    height = np.min(y_coords)\n",
    "    gradient = np.gradient(y_coords)\n",
    "    \n",
    "    #=====[ Checks gradients to make sure  ]=====\n",
    "    min_located = False\n",
    "    for index, dy in enumerate(gradient[2:]):\n",
    "        if(min_located):\n",
    "            if in_new_squat(y_coords, height, index, delta):\n",
    "                min_located = False       \n",
    "            else:\n",
    "                continue\n",
    "                \n",
    "        if  is_min(y_coords, height, gradient, index, epsilon, beta + 1):\n",
    "            local_mins.append(index)\n",
    "            min_located = True\n",
    "        \n",
    "    return sorted(local_mins)"
   ]
  },
  {
   "cell_type": "code",
   "execution_count": 63,
   "metadata": {
    "collapsed": false,
    "scrolled": true
   },
   "outputs": [
    {
     "name": "stdout",
     "output_type": "stream",
     "text": [
      "[1, 97, 143, 198, 248, 309, 350, 401, 451, 504, 556]\n"
     ]
    },
    {
     "data": {
      "image/png": "[encoded data removed]",
      "text/plain": [
       "<matplotlib.figure.Figure at 0x1101ba790>"
      ]
     },
     "metadata": {},
     "output_type": "display_data"
    }
   ],
   "source": [
    "#=====[ Get maxes and plot with y_coords ]=====\n",
    "mins = get_local_mins(y_coords)\n",
    "plt.plot(y_coords,marker='+')\n",
    "print mins\n",
    "\n",
    "for divide in mins:\n",
    "    plt.axvline(divide,color='r')"
   ]
  },
  {
   "cell_type": "markdown",
   "metadata": {},
   "source": [
    "#Separate Exercise based on max points found"
   ]
  },
  {
   "cell_type": "code",
   "execution_count": 64,
   "metadata": {
    "collapsed": false
   },
   "outputs": [
    {
     "name": "stdout",
     "output_type": "stream",
     "text": [
      "10 reps extracted\n"
     ]
    }
   ],
   "source": [
    "reps = []\n",
    "\n",
    "#=====[ Get points from DF between each max found -- constitutes a single squat ]=====\n",
    "for index,x in enumerate(mins):\n",
    "    if(index == len(mins) -1 ):\n",
    "        continue\n",
    "    rep = (df.loc[x:mins[index+1]-1]).copy(True)\n",
    "    reps.append(rep.set_index([range(rep.shape[0])]))\n",
    "    \n",
    "print \"%d reps extracted\" % len(reps)"
   ]
  },
  {
   "cell_type": "markdown",
   "metadata": {},
   "source": [
    "#Step 3: Normalize Coordinates"
   ]
  },
  {
   "cell_type": "code",
   "execution_count": 65,
   "metadata": {
    "collapsed": true
   },
   "outputs": [],
   "source": [
    "#=====[ Helper Functions for getting normalizing parameters ]=====\n",
    "def y_upper_bound(df):\n",
    "    return np.min(df['HeadY'])\n",
    "\n",
    "def y_lower_bound(df):\n",
    "    return np.median(pd.concat([df['FootRightY'],df['FootLeftY']],axis =0))\n",
    "\n",
    "def x_zero(df):\n",
    "    return np.median(df['SpineMidX'])\n",
    "\n",
    "def z_zero(df):\n",
    "    return np.median(np.concatenate([df.get('FootLeftZ'),df.get('FootRightZ')],axis=0))\n",
    "\n",
    "def scaling_factor(df):\n",
    "    return np.abs(y_upper_bound(df) - y_lower_bound(df))"
   ]
  },
  {
   "cell_type": "code",
   "execution_count": 66,
   "metadata": {
    "collapsed": false
   },
   "outputs": [],
   "source": [
    "def normalize(df, reps, z_coords=False):\n",
    "    \n",
    "    #=====[ Normalizing constants for the entire set of exercises ]=====\n",
    "    y_head = y_upper_bound(df)\n",
    "    scale = scaling_factor(df)\n",
    "    x_midpoint = x_zero(df)\n",
    "    if(z_coords):\n",
    "        z_midpoint = z_zero(df)\n",
    "    \n",
    "    for rep in reps:\n",
    "        \n",
    "        #=====[ Even columns are x-coordinates, odd columns are y-coordinates -- normalize respectively ]=====\n",
    "        if(not z_coords):\n",
    "            for index, col in enumerate(rep.columns):\n",
    "                if (index % 2) == 1:\n",
    "                    rep[col] = rep[col].apply((lambda y: ((y - y_head)/scale)))\n",
    "                else:\n",
    "                    rep[col] = rep[col].apply((lambda x: ((x - x_midpoint)/scale)))\n",
    "        else:\n",
    "            for index, col in enumerate(rep.columns):\n",
    "                if index % 3 == 2:\n",
    "                    rep[col] = rep[col].apply((lambda z: ((z - z_midpoint)/scale)))\n",
    "                elif index % 3 == 1:\n",
    "                    rep[col] = rep[col].apply((lambda y: ((y - y_head)/scale)))\n",
    "                else:\n",
    "                    rep[col] = rep[col].apply(lambda x: ((x - x_midpoint)/scale))                    "
   ]
  },
  {
   "cell_type": "code",
   "execution_count": 67,
   "metadata": {
    "collapsed": false
   },
   "outputs": [],
   "source": [
    "#=====[ Normalize squats: ensure z_coords is set to true if extracting 3-d coordinates ]=====\n",
    "normalize(df, reps,z_coords = True)"
   ]
  },
  {
   "cell_type": "code",
   "execution_count": 7,
   "metadata": {
    "collapsed": false,
    "scrolled": true
   },
   "outputs": [
    {
     "ename": "NameError",
     "evalue": "name 'reps' is not defined",
     "output_type": "error",
     "traceback": [
      "\u001b[0;31m---------------------------------------------------------------------------\u001b[0m",
      "\u001b[0;31mNameError\u001b[0m                                 Traceback (most recent call last)",
      "\u001b[0;32m<ipython-input-7-5f829c71914c>\u001b[0m in \u001b[0;36m<module>\u001b[0;34m()\u001b[0m\n\u001b[1;32m      1\u001b[0m \u001b[0;31m#=====[ Visual comparison between reps ]=====\u001b[0m\u001b[0;34m\u001b[0m\u001b[0;34m\u001b[0m\u001b[0m\n\u001b[0;32m----> 2\u001b[0;31m \u001b[0;32mfor\u001b[0m \u001b[0mindex\u001b[0m\u001b[0;34m,\u001b[0m \u001b[0mrep\u001b[0m \u001b[0;32min\u001b[0m \u001b[0menumerate\u001b[0m\u001b[0;34m(\u001b[0m\u001b[0mreps\u001b[0m\u001b[0;34m)\u001b[0m\u001b[0;34m:\u001b[0m\u001b[0;34m\u001b[0m\u001b[0m\n\u001b[0m\u001b[1;32m      3\u001b[0m     \u001b[0mplt\u001b[0m\u001b[0;34m.\u001b[0m\u001b[0mplot\u001b[0m\u001b[0;34m(\u001b[0m\u001b[0;34m-\u001b[0m\u001b[0mrep\u001b[0m\u001b[0;34m.\u001b[0m\u001b[0mget\u001b[0m\u001b[0;34m(\u001b[0m\u001b[0;34m'HeadY'\u001b[0m\u001b[0;34m)\u001b[0m\u001b[0;34m,\u001b[0m\u001b[0mlabel\u001b[0m\u001b[0;34m=\u001b[0m\u001b[0;34m\"Rep \"\u001b[0m \u001b[0;34m+\u001b[0m \u001b[0mstr\u001b[0m\u001b[0;34m(\u001b[0m\u001b[0mindex\u001b[0m \u001b[0;34m+\u001b[0m \u001b[0;36m1\u001b[0m\u001b[0;34m)\u001b[0m\u001b[0;34m)\u001b[0m\u001b[0;34m\u001b[0m\u001b[0m\n\u001b[1;32m      4\u001b[0m \u001b[0mplt\u001b[0m\u001b[0;34m.\u001b[0m\u001b[0mlegend\u001b[0m\u001b[0;34m(\u001b[0m\u001b[0;34m)\u001b[0m\u001b[0;34m\u001b[0m\u001b[0m\n",
      "\u001b[0;31mNameError\u001b[0m: name 'reps' is not defined"
     ]
    }
   ],
   "source": [
    "#=====[ Visual comparison between reps ]=====\n",
    "for index, rep in enumerate(reps):\n",
    "    plt.plot(-rep.get('HeadY'),label=\"Rep \" + str(index + 1))\n",
    "plt.legend()"
   ]
  },
  {
   "cell_type": "markdown",
   "metadata": {},
   "source": [
    "#Get labels and compress pickle squats"
   ]
  },
  {
   "cell_type": "code",
   "execution_count": 8,
   "metadata": {
    "collapsed": true
   },
   "outputs": [],
   "source": [
    "#=====[ Get labels ]=====\n",
    "y = labels.labels14\n",
    "print len(y)"
   ]
  },
  {
   "cell_type": "code",
   "execution_count": 32,
   "metadata": {
    "collapsed": true
   },
   "outputs": [],
   "source": [
    "training_data = []\n",
    "\n",
    "#=====[ Append label to our squats and pickle the (x,y) pairs ]=====\n",
    "for index, rep in enumerate(reps):\n",
    "    training_data.append((rep,y[index]))"
   ]
  },
  {
   "cell_type": "code",
   "execution_count": 33,
   "metadata": {
    "collapsed": false
   },
   "outputs": [],
   "source": [
    "#=====[ Save squats in pickle file if desired ]=====\n",
    "pickle.dump(training_data,open('data/squat_coords/squats14.p','wb'))"
   ]
  },
  {
   "cell_type": "markdown",
   "metadata": {},
   "source": [
    "#Visualize Scaled Body"
   ]
  },
  {
   "cell_type": "code",
   "execution_count": 34,
   "metadata": {
    "collapsed": false
   },
   "outputs": [],
   "source": [
    "def plotBody(df,frame,z_coords=False):\n",
    "    coords = np.array(df.loc[frame])\n",
    "    if not z_coords:\n",
    "        xs = [coords[i] for i in range(0,coords.size) if i % 2 == 0]\n",
    "        ys = [-1*coords[i] for i in range(0,coords.size) if i % 2 == 1]\n",
    "    else:\n",
    "        xs = [coords[i] for i in range(0,coords.size) if i % 3 == 0]\n",
    "        ys = [-1*coords[i] for i in range(0,coords.size) if i % 3 == 1]    \n",
    "    plt.plot(xs,ys,linestyle='None',marker='o')\n",
    "    plt.axis([-0.6,0.6,-1.2,0.2])\n"
   ]
  },
  {
   "cell_type": "code",
   "execution_count": 35,
   "metadata": {
    "collapsed": false,
    "scrolled": true
   },
   "outputs": [
    {
     "data": {
      "image/png": "[encoded data removed]",
      "text/plain": [
       "<matplotlib.figure.Figure at 0x10f823810>"
      ]
     },
     "metadata": {},
     "output_type": "display_data"
    }
   ],
   "source": [
    "plotBody(reps[1],10,True)"
   ]
  },
  {
   "cell_type": "code",
   "execution_count": null,
   "metadata": {
    "collapsed": true
   },
   "outputs": [],
   "source": []
  },
  {
   "cell_type": "code",
   "execution_count": null,
   "metadata": {
    "collapsed": true
   },
   "outputs": [],
   "source": []
  }
 ],
 "metadata": {
  "kernelspec": {
   "display_name": "Python 2",
   "language": "python",
   "name": "python2"
  },
  "language_info": {
   "codemirror_mode": {
    "name": "ipython",
    "version": 2
   },
   "file_extension": ".py",
   "mimetype": "text/x-python",
   "name": "python",
   "nbconvert_exporter": "python",
   "pygments_lexer": "ipython2",
   "version": "2.7.10"
  }
 },
 "nbformat": 4,
 "nbformat_minor": 0
}

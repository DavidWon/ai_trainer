{
 "cells": [
  {
   "cell_type": "code",
   "execution_count": 12,
   "metadata": {
    "collapsed": false
   },
   "outputs": [],
   "source": [
    "import sys\n",
    "\n",
    "sys.path.append('../inference')\n",
    "sys.path.append('../')\n",
    "sys.path.append('../data')\n",
    "sys.path.append('../data/squat_coords')\n",
    "\n",
    "import numpy as np\n",
    "import pandas as pd\n",
    "import matplotlib.pyplot as plt\n",
    "from ai_trainer import Personal_Trainer\n",
    "import squat_separation as ss\n",
    "import pickle\n",
    "import os\n",
    "import label_columns\n",
    "\n",
    "%matplotlib inline"
   ]
  },
  {
   "cell_type": "markdown",
   "metadata": {},
   "source": [
    "#Extract Data"
   ]
  },
  {
   "cell_type": "code",
   "execution_count": 13,
   "metadata": {
    "collapsed": false
   },
   "outputs": [],
   "source": [
    "data_dir = '../data/squat_coords'\n",
    "X = []\n",
    "file_names = []\n",
    "ignoreList = ['10','18']\n",
    "\n",
    "#=====[ Iterate through every file in the directory ]=====\n",
    "for f in os.listdir(data_dir):\n",
    "    \n",
    "    \n",
    "    \n",
    "    \n",
    "    #=====[ Check to make sure file is not in ignore list ]=====\n",
    "    ignore = False\n",
    "    for toIgnore in ignoreList:\n",
    "        if toIgnore in f:\n",
    "            ignore = True\n",
    "            break\n",
    "    \n",
    "    #=====[ Add squat to our X ]=====\n",
    "    if not ignore:\n",
    "        squats = pickle.load(open(os.path.join(data_dir, f),'rb'))\n",
    "        for squat in squats:\n",
    "            \n",
    "            #=====[ Check if Squat is tuple of just DataFrame ]=====\n",
    "            if type(squat) == type((0,0)):\n",
    "                X.append(squat[0])\n",
    "            else: \n",
    "                X.append(squat)\n",
    "            \n",
    "            file_names.append(f)"
   ]
  },
  {
   "cell_type": "markdown",
   "metadata": {},
   "source": [
    "#Get Labels"
   ]
  },
  {
   "cell_type": "code",
   "execution_count": 14,
   "metadata": {
    "collapsed": false
   },
   "outputs": [],
   "source": [
    "import labels\n",
    "\n",
    "label_arrays = [labels.labels11, labels.labels12, labels.labels13, labels.labels14, labels.labels15, labels.labels16, labels.labels17, labels.labels19, labels.labels20, labels.labels31_32, labels.labels33_34, labels.labels35, labels.labels41_42, labels.labels43_44, labels.labels45_46, labels.labels47, labels.labels50_52, labels.labels51_53 ]\n",
    "Y = np.concatenate(label_arrays)\n",
    "Y = pd.DataFrame(Y,columns=label_columns.columns)"
   ]
  },
  {
   "cell_type": "code",
   "execution_count": 15,
   "metadata": {
    "collapsed": false
   },
   "outputs": [],
   "source": [
    "pickle.dump({'X':X,'Y':Y,'file_names':file_names},open('multipleClass4.p','wb'))"
   ]
  },
  {
   "cell_type": "code",
   "execution_count": 16,
   "metadata": {
    "collapsed": false
   },
   "outputs": [
    {
     "name": "stdout",
     "output_type": "stream",
     "text": [
      "224\n"
     ]
    }
   ],
   "source": [
    "data = pickle.load(open('multipleClass4.p','rb'))\n",
    "print len(data['X'])"
   ]
  },
  {
   "cell_type": "code",
   "execution_count": 18,
   "metadata": {
    "collapsed": false
   },
   "outputs": [
    {
     "name": "stdout",
     "output_type": "stream",
     "text": [
      "224\n"
     ]
    }
   ],
   "source": [
    "print len(data['file_names'])"
   ]
  },
  {
   "cell_type": "code",
   "execution_count": null,
   "metadata": {
    "collapsed": true
   },
   "outputs": [],
   "source": []
  }
 ],
 "metadata": {
  "kernelspec": {
   "display_name": "Python 2",
   "language": "python",
   "name": "python2"
  },
  "language_info": {
   "codemirror_mode": {
    "name": "ipython",
    "version": 2
   },
   "file_extension": ".py",
   "mimetype": "text/x-python",
   "name": "python",
   "nbconvert_exporter": "python",
   "pygments_lexer": "ipython2",
   "version": "2.7.10"
  }
 },
 "nbformat": 4,
 "nbformat_minor": 0
}

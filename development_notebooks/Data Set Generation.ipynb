{
 "cells": [
  {
   "cell_type": "markdown",
   "metadata": {},
   "source": [
    "# Pipeline for generating a data set from preprocessed reps and labels"
   ]
  },
  {
   "cell_type": "code",
   "execution_count": 2,
   "metadata": {
    "collapsed": false
   },
   "outputs": [
    {
     "ename": "ImportError",
     "evalue": "No module named advice_messages",
     "output_type": "error",
     "traceback": [
      "\u001b[0;31m---------------------------------------------------------------------------\u001b[0m",
      "\u001b[0;31mImportError\u001b[0m                               Traceback (most recent call last)",
      "\u001b[0;32m<ipython-input-2-2ccca1bd177b>\u001b[0m in \u001b[0;36m<module>\u001b[0;34m()\u001b[0m\n\u001b[1;32m      9\u001b[0m \u001b[0;32mimport\u001b[0m \u001b[0mpandas\u001b[0m \u001b[0;32mas\u001b[0m \u001b[0mpd\u001b[0m\u001b[0;34m\u001b[0m\u001b[0m\n\u001b[1;32m     10\u001b[0m \u001b[0;32mimport\u001b[0m \u001b[0mmatplotlib\u001b[0m\u001b[0;34m.\u001b[0m\u001b[0mpyplot\u001b[0m \u001b[0;32mas\u001b[0m \u001b[0mplt\u001b[0m\u001b[0;34m\u001b[0m\u001b[0m\n\u001b[0;32m---> 11\u001b[0;31m \u001b[0;32mfrom\u001b[0m \u001b[0mai_trainer\u001b[0m \u001b[0;32mimport\u001b[0m \u001b[0mPersonal_Trainer\u001b[0m\u001b[0;34m\u001b[0m\u001b[0m\n\u001b[0m\u001b[1;32m     12\u001b[0m \u001b[0;32mimport\u001b[0m \u001b[0msquat_separation\u001b[0m \u001b[0;32mas\u001b[0m \u001b[0mss\u001b[0m\u001b[0;34m\u001b[0m\u001b[0m\n\u001b[1;32m     13\u001b[0m \u001b[0;32mimport\u001b[0m \u001b[0mpickle\u001b[0m\u001b[0;34m\u001b[0m\u001b[0m\n",
      "\u001b[0;32m/Users/Brandon/Desktop/Projects/Trainer/ai_trainer/ai_trainer.py\u001b[0m in \u001b[0;36m<module>\u001b[0;34m()\u001b[0m\n\u001b[1;32m     22\u001b[0m \u001b[0;32mimport\u001b[0m \u001b[0mpu_featurizer\u001b[0m \u001b[0;32mas\u001b[0m \u001b[0mpfz\u001b[0m\u001b[0;34m\u001b[0m\u001b[0m\n\u001b[1;32m     23\u001b[0m \u001b[0;32mimport\u001b[0m \u001b[0mutils\u001b[0m \u001b[0;32mas\u001b[0m \u001b[0mut\u001b[0m\u001b[0;34m\u001b[0m\u001b[0m\n\u001b[0;32m---> 24\u001b[0;31m \u001b[0;32mimport\u001b[0m \u001b[0mresult_interpretation\u001b[0m \u001b[0;32mas\u001b[0m \u001b[0madvice\u001b[0m\u001b[0;34m\u001b[0m\u001b[0m\n\u001b[0m\u001b[1;32m     25\u001b[0m \u001b[0;34m\u001b[0m\u001b[0m\n\u001b[1;32m     26\u001b[0m \u001b[0;31m#=====[ Import Data ]=====\u001b[0m\u001b[0;34m\u001b[0m\u001b[0;34m\u001b[0m\u001b[0m\n",
      "\u001b[0;32m/Users/Brandon/Desktop/Projects/Trainer/ai_trainer/result_interpretation.py\u001b[0m in \u001b[0;36m<module>\u001b[0;34m()\u001b[0m\n\u001b[1;32m      2\u001b[0m \u001b[0;32mimport\u001b[0m \u001b[0msys\u001b[0m\u001b[0;34m\u001b[0m\u001b[0m\n\u001b[1;32m      3\u001b[0m \u001b[0msys\u001b[0m\u001b[0;34m.\u001b[0m\u001b[0mpath\u001b[0m\u001b[0;34m.\u001b[0m\u001b[0mappend\u001b[0m\u001b[0;34m(\u001b[0m\u001b[0;34m'feedback'\u001b[0m\u001b[0;34m)\u001b[0m\u001b[0;34m\u001b[0m\u001b[0m\n\u001b[0;32m----> 4\u001b[0;31m \u001b[0;32mimport\u001b[0m \u001b[0madvice_messages\u001b[0m\u001b[0;34m\u001b[0m\u001b[0m\n\u001b[0m\u001b[1;32m      5\u001b[0m \u001b[0;34m\u001b[0m\u001b[0m\n\u001b[1;32m      6\u001b[0m \u001b[0;32mdef\u001b[0m \u001b[0madvice\u001b[0m\u001b[0;34m(\u001b[0m\u001b[0mexercise\u001b[0m\u001b[0;34m,\u001b[0m \u001b[0mresults\u001b[0m\u001b[0;34m)\u001b[0m\u001b[0;34m:\u001b[0m\u001b[0;34m\u001b[0m\u001b[0m\n",
      "\u001b[0;31mImportError\u001b[0m: No module named advice_messages"
     ]
    }
   ],
   "source": [
    "import sys\n",
    "\n",
    "sys.path.append('../data')\n",
    "sys.path.append('../inference')\n",
    "sys.path.append('../')\n",
    "sys.path.append('../data/squat_coords')\n",
    "\n",
    "import numpy as np\n",
    "import pandas as pd\n",
    "import matplotlib.pyplot as plt\n",
    "from ai_trainer import Personal_Trainer\n",
    "import squat_separation as ss\n",
    "import pickle\n",
    "import os\n",
    "import label_columns\n",
    "\n",
    "%matplotlib inline\n",
    "%load_ext autoreload\n",
    "%autoreload 2"
   ]
  },
  {
   "cell_type": "markdown",
   "metadata": {},
   "source": [
    "# Step 1: Extract Data"
   ]
  },
  {
   "cell_type": "code",
   "execution_count": 2,
   "metadata": {
    "collapsed": false
   },
   "outputs": [],
   "source": [
    "#=====[ Specify directory we wish to pull data from -- choose pushups or squats ]=====\n",
    "data_dir = '../data/pushup_coords'\n",
    "#data_dir = '../data/squat_coords'\n",
    "\n",
    "X = []\n",
    "file_names = []\n",
    "ignoreList = []\n",
    "\n",
    "#=====[ Iterate through every file in the directory ]=====\n",
    "for f in os.listdir(data_dir):    \n",
    "    \n",
    "    #=====[ Check to make sure file is not in ignore list ]=====\n",
    "    ignore = False\n",
    "    for toIgnore in ignoreList:\n",
    "        if toIgnore in f:\n",
    "            ignore = True\n",
    "            break\n",
    "    \n",
    "    #=====[ Add squat to our X ]=====\n",
    "    if not ignore:\n",
    "        reps = pickle.load(open(os.path.join(data_dir, f),'rb'))\n",
    "\n",
    "        for rep in reps:\n",
    "            \n",
    "            #=====[ Check if Squat is tuple of just DataFrame ]=====\n",
    "            if type(rep) == type((0,0)):\n",
    "                X.append(rep[0])\n",
    "            else: \n",
    "                X.append(rep)\n",
    "            \n",
    "            file_names.append(f)"
   ]
  },
  {
   "cell_type": "markdown",
   "metadata": {},
   "source": [
    "#Step 2: Get Labels"
   ]
  },
  {
   "cell_type": "code",
   "execution_count": 3,
   "metadata": {
    "collapsed": false
   },
   "outputs": [],
   "source": [
    "#Import proper labels depending on whether you're using squats or pushups\n",
    "import pushup_labels2 as labels\n",
    "#import squat_labels as labels\n",
    "\n",
    "#=====[ Specify labels corresponding to file names; Must be in alphabetical/numerical order ]=====\n",
    "label_arrays = [labels.labels12, labels.labels13, labels.labels14, labels.labels16, labels.labels17, labels.labels18, labels.labels19, labels.labels26, labels.labels27, labels.labels28, labels.labels29]\n",
    "\n",
    "#=====[ Concatenate labels into single label matrix (dataframe) ]=====\n",
    "Y = np.concatenate(label_arrays)\n",
    "Y = pd.DataFrame(Y,columns=labels.label_names)"
   ]
  },
  {
   "cell_type": "code",
   "execution_count": 4,
   "metadata": {
    "collapsed": false
   },
   "outputs": [
    {
     "name": "stdout",
     "output_type": "stream",
     "text": [
      "109\n",
      "109\n",
      "109\n"
     ]
    }
   ],
   "source": [
    "#=====[ Confirm lengths of necessary parameters ]=====\n",
    "print len(X)\n",
    "print len(Y)\n",
    "print len(file_names)"
   ]
  },
  {
   "cell_type": "markdown",
   "metadata": {},
   "source": [
    "#Step 3: Pickle (store) Data Set"
   ]
  },
  {
   "cell_type": "code",
   "execution_count": 5,
   "metadata": {
    "collapsed": false
   },
   "outputs": [],
   "source": [
    "pickle.dump({'X':X,'Y':Y,'file_names':file_names},open('pushupDataSet109.p','wb'))"
   ]
  },
  {
   "cell_type": "code",
   "execution_count": 6,
   "metadata": {
    "collapsed": false
   },
   "outputs": [
    {
     "name": "stdout",
     "output_type": "stream",
     "text": [
      "109\n"
     ]
    }
   ],
   "source": [
    "data = pickle.load(open('pushupDataSet109.p','rb'))\n",
    "print len(data['X'])"
   ]
  },
  {
   "cell_type": "code",
   "execution_count": null,
   "metadata": {
    "collapsed": true
   },
   "outputs": [],
   "source": []
  }
 ],
 "metadata": {
  "kernelspec": {
   "display_name": "Python 2",
   "language": "python",
   "name": "python2"
  },
  "language_info": {
   "codemirror_mode": {
    "name": "ipython",
    "version": 2
   },
   "file_extension": ".py",
   "mimetype": "text/x-python",
   "name": "python",
   "nbconvert_exporter": "python",
   "pygments_lexer": "ipython2",
   "version": "2.7.11"
  }
 },
 "nbformat": 4,
 "nbformat_minor": 0
}

{
 "cells": [
  {
   "cell_type": "markdown",
   "metadata": {},
   "source": [
    "#Full Pipeline for taking coordinates and classifying the reps"
   ]
  },
  {
   "cell_type": "code",
   "execution_count": 1,
   "metadata": {
    "collapsed": false
   },
   "outputs": [],
   "source": [
    "import sys\n",
    "import os\n",
    "import pickle\n",
    "sys.path.append('..')\n",
    "sys.path.append('../inference')\n",
    "sys.path.append('../data')\n",
    "from ai_trainer import Personal_Trainer"
   ]
  },
  {
   "cell_type": "markdown",
   "metadata": {},
   "source": [
    "#Step 1: Instantiate personal trainer and load classifiers"
   ]
  },
  {
   "cell_type": "code",
   "execution_count": 2,
   "metadata": {
    "collapsed": false
   },
   "outputs": [
    {
     "name": "stdout",
     "output_type": "stream",
     "text": [
      "[SUCCESS] ---------- > Classifiers stored\n"
     ]
    }
   ],
   "source": [
    "pt = Personal_Trainer('NeckY')\n",
    "\n",
    "#=====[ Get classifiers from pickled file ]=====\n",
    "classifiers = pickle.load(open(os.path.join('../inference/','trained_classifiers3.p'),'rb'))\n",
    "\n",
    "#=====[ Set classifiers for our trainer ]=====\n",
    "pt.set_classifiers(classifiers)"
   ]
  },
  {
   "cell_type": "code",
   "execution_count": 3,
   "metadata": {
    "collapsed": true
   },
   "outputs": [],
   "source": [
    "#We could similarly instantiate a personal trainer for pushups and load our trained pushup classifiers to then\n",
    "#run inference on a set of push-ups"
   ]
  },
  {
   "cell_type": "markdown",
   "metadata": {},
   "source": [
    "#Step 2: Analyze Reps from raw coordinate data file"
   ]
  },
  {
   "cell_type": "code",
   "execution_count": 13,
   "metadata": {
    "collapsed": false
   },
   "outputs": [
    {
     "name": "stdout",
     "output_type": "stream",
     "text": [
      "[SUCCESS] ---------- > Reps segmented and normalized\n",
      "[SUCCESS] ---------- > Features extracted\n"
     ]
    }
   ],
   "source": [
    "squats = pt.analyze_reps('../data/raw_data/squat_pushupData_10to20/squatData33.txt')\n",
    "#=====[ Extract feature vectors from squats for each exercise componenet  ]=====\n",
    "feature_vectors = pt.get_prediction_features(squats)\n"
   ]
  },
  {
   "cell_type": "code",
   "execution_count": 14,
   "metadata": {
    "collapsed": false
   },
   "outputs": [
    {
     "name": "stdout",
     "output_type": "stream",
     "text": [
      "[SUCCESS] ---------- > bend_hips_knees: reps classified\n",
      "\n",
      "bend_hips_knees :\n",
      "[0 0 0 0 0 0 0 0 1] \n",
      "\n",
      "[SUCCESS] ---------- > stance_width: reps classified\n",
      "\n",
      "stance_width :\n",
      "[ 0  0  0  0  0  0  0  0 -1] \n",
      "\n",
      "[SUCCESS] ---------- > squat_depth: reps classified\n",
      "\n",
      "squat_depth :\n",
      "[1 1 0 0 0 0 0 0 0] \n",
      "\n",
      "[SUCCESS] ---------- > knees_over_toes: reps classified\n",
      "\n",
      "knees_over_toes :\n",
      "[0 1 0 1 0 1 1 1 1] \n",
      "\n",
      "[SUCCESS] ---------- > back_hip_angle: reps classified\n",
      "\n",
      "back_hip_angle :\n",
      "[1 1 1 0 0 0 1 0 0] \n",
      "\n"
     ]
    }
   ],
   "source": [
    "#=====[ Run classification on each squat component and report results  ]=====\n",
    "for key in feature_vectors:\n",
    "    X = feature_vectors[key]\n",
    "    classification = pt.classify(key, X)\n",
    "    print '\\n', key ,':\\n', classification, '\\n'"
   ]
  }
 ],
 "metadata": {
  "kernelspec": {
   "display_name": "Python 2",
   "language": "python",
   "name": "python2"
  },
  "language_info": {
   "codemirror_mode": {
    "name": "ipython",
    "version": 2
   },
   "file_extension": ".py",
   "mimetype": "text/x-python",
   "name": "python",
   "nbconvert_exporter": "python",
   "pygments_lexer": "ipython2",
   "version": "2.7.10"
  }
 },
 "nbformat": 4,
 "nbformat_minor": 0
}

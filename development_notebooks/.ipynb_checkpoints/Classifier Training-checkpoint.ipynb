{
 "cells": [
  {
   "cell_type": "code",
   "execution_count": 6,
   "metadata": {
    "collapsed": false
   },
   "outputs": [],
   "source": [
    "import sys\n",
    "\n",
    "sys.path.append('../data')\n",
    "sys.path.append('..')\n",
    "sys.path.append('../inference')\n",
    "sys.path.append('../feedback')\n",
    "\n",
    "import numpy as np\n",
    "import pandas as pd\n",
    "import matplotlib.pyplot as plt\n",
    "from ai_trainer import Personal_Trainer\n",
    "import squat_separation as ss\n",
    "import pickle\n",
    "import os\n",
    "import random as rnd\n",
    "from collections import defaultdict\n",
    "import classification_ftopt\n",
    "import utils as ut\n",
    "\n",
    "%matplotlib inline\n"
   ]
  },
  {
   "cell_type": "code",
   "execution_count": 7,
   "metadata": {
    "collapsed": true
   },
   "outputs": [],
   "source": [
    "#=====[ Import preprocessing tools  ]=====\n",
    "from sklearn import preprocessing\n",
    "from sklearn import cross_validation\n",
    "from sklearn import metrics\n",
    "\n",
    "#=====[ Import Inference models  ]=====\n",
    "from sklearn import ensemble\n",
    "from sklearn import svm\n",
    "from sklearn import neighbors\n",
    "from sklearn import linear_model\n",
    "from sklearn.ensemble import GradientBoostingClassifier\n",
    "from sklearn import tree\n",
    "\n",
    "#=====[ Import util tools  ]=====\n",
    "import random\n",
    "import pickle\n",
    "import os\n",
    "import pandas as pd\n",
    "import numpy as np\n",
    "from collections import defaultdict"
   ]
  },
  {
   "cell_type": "code",
   "execution_count": 8,
   "metadata": {
    "collapsed": true
   },
   "outputs": [],
   "source": [
    "def train_squat_classifiers(trainer):\n",
    "\n",
    "\t#=====[ Load feature indicies  ]=====\n",
    "\tfeature_indices = pickle.load(open(os.path.join('../inference/','squat_feature_indicies.p'),'rb'))\n",
    "\n",
    "\t#=====[ Instantiates classifiers for each component of the squat  ]=====\n",
    "\tclassifiers = {'bend_hips_knees': tree.DecisionTreeClassifier(max_depth=3, criterion=\"entropy\"), 'stance_width': linear_model.LogisticRegression(penalty='l1'),'squat_depth': linear_model.LogisticRegression(penalty='l1'),'knees_over_toes': tree.DecisionTreeClassifier(max_depth=3, criterion=\"entropy\"),'back_hip_angle': linear_model.LogisticRegression()}\n",
    "\n",
    "\t#=====[ Retreives relevant training data for each classifier  ]=====\n",
    "\tX3, Y, file_names = trainer.extract_advanced_features(multiples=[float(x)/20 for x in range(1,20)])\n",
    "\tX30 = np.concatenate([X3[x] for x in X3],axis=1)\n",
    "\n",
    "\t#=====[ Trains each classifier  ]=====\n",
    "\tprint type(feature_indices)\n",
    "\tprint feature_indices\n",
    "    \n",
    "\tclassifiers['bend_hips_knees'].fit(X30[:,feature_indices['bend_hips_knees']], Y['bend_hips_knees'])\n",
    "\tclassifiers['stance_width'].fit(X30[:,feature_indices['stance_width']], Y['stance_width'])\n",
    "\tclassifiers['squat_depth'].fit(X30[:,feature_indices['squat_depth']], Y['squat_depth'])\n",
    "\tcoalesced_y = replace_label(Y['knees_over_toes'],2,1)\n",
    "\tclassifiers['knees_over_toes'].fit(X30[:,feature_indices['knees_over_toes']], coalesced_y)\n",
    "\tclassifiers['back_hip_angle'].fit(X30[:,feature_indices['back_hip_angle']], Y['back_hip_angle'])"
   ]
  },
  {
   "cell_type": "markdown",
   "metadata": {},
   "source": [
    "#Train Classifiers"
   ]
  },
  {
   "cell_type": "code",
   "execution_count": 9,
   "metadata": {
    "collapsed": false
   },
   "outputs": [
    {
     "name": "stdout",
     "output_type": "stream",
     "text": [
      "[SUCCESS] ---------- > Training data loaded\n",
      "[FAILURE] ---------- > Could not train classifiersstring indices must be integers, not str\n"
     ]
    }
   ],
   "source": [
    "pt = Personal_Trainer('NeckY')\n",
    "\n",
    "try:\n",
    "    pt.load_reps('squat',os.path.join('../data/data_sets','multipleClass4.p'))\n",
    "#     pt.load_reps(os.path.join('../data/data_sets','pushupDataSet109.p'))\n",
    "    ut.print_success('Training data loaded')\n",
    "    try:\n",
    "        pt.set_classifiers('squat',train_squat_classifiers(pt))\n",
    "#         pt.set_classifiers(classification.train_pushup_classifiers(pt))\n",
    "        ut.print_success('Classifiers trained')\n",
    "    except Exception as e:\n",
    "        ut.print_failure('Could not train classifiers' + str(e))\n",
    "except Exception as e:\n",
    "    ut.print_failure('Could not load training data:' + str(e))"
   ]
  },
  {
   "cell_type": "markdown",
   "metadata": {},
   "source": [
    "#Store Classifiers"
   ]
  },
  {
   "cell_type": "code",
   "execution_count": null,
   "metadata": {
    "collapsed": true
   },
   "outputs": [],
   "source": []
  },
  {
   "cell_type": "code",
   "execution_count": 3,
   "metadata": {
    "collapsed": false
   },
   "outputs": [],
   "source": [
    "classifiers = pt.get_classifiers('squat')\n",
    "pickle.dump(classifiers,open('squat_classifiers_ftopt.p','wb'))"
   ]
  },
  {
   "cell_type": "code",
   "execution_count": null,
   "metadata": {
    "collapsed": true
   },
   "outputs": [],
   "source": []
  }
 ],
 "metadata": {
  "kernelspec": {
   "display_name": "Python 2",
   "language": "python",
   "name": "python2"
  },
  "language_info": {
   "codemirror_mode": {
    "name": "ipython",
    "version": 2
   },
   "file_extension": ".py",
   "mimetype": "text/x-python",
   "name": "python",
   "nbconvert_exporter": "python",
   "pygments_lexer": "ipython2",
   "version": "2.7.10"
  }
 },
 "nbformat": 4,
 "nbformat_minor": 0
}

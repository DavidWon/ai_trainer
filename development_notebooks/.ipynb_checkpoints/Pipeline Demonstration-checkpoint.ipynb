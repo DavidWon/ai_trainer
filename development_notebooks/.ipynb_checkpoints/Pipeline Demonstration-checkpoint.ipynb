{
 "cells": [
  {
   "cell_type": "markdown",
   "metadata": {},
   "source": [
    "#Full Pipeline for taking coordinates and classifying the reps"
   ]
  },
  {
   "cell_type": "code",
   "execution_count": 1,
   "metadata": {
    "collapsed": false
   },
   "outputs": [
    {
     "ename": "ImportError",
     "evalue": "No module named advice_messages",
     "output_type": "error",
     "traceback": [
      "\u001b[0;31m---------------------------------------------------------------------------\u001b[0m",
      "\u001b[0;31mImportError\u001b[0m                               Traceback (most recent call last)",
      "\u001b[0;32m<ipython-input-1-12c04637b2cc>\u001b[0m in \u001b[0;36m<module>\u001b[0;34m()\u001b[0m\n\u001b[1;32m      5\u001b[0m \u001b[0msys\u001b[0m\u001b[0;34m.\u001b[0m\u001b[0mpath\u001b[0m\u001b[0;34m.\u001b[0m\u001b[0mappend\u001b[0m\u001b[0;34m(\u001b[0m\u001b[0;34m'../inference'\u001b[0m\u001b[0;34m)\u001b[0m\u001b[0;34m\u001b[0m\u001b[0m\n\u001b[1;32m      6\u001b[0m \u001b[0msys\u001b[0m\u001b[0;34m.\u001b[0m\u001b[0mpath\u001b[0m\u001b[0;34m.\u001b[0m\u001b[0mappend\u001b[0m\u001b[0;34m(\u001b[0m\u001b[0;34m'../data'\u001b[0m\u001b[0;34m)\u001b[0m\u001b[0;34m\u001b[0m\u001b[0m\n\u001b[0;32m----> 7\u001b[0;31m \u001b[0;32mfrom\u001b[0m \u001b[0mai_trainer\u001b[0m \u001b[0;32mimport\u001b[0m \u001b[0mPersonal_Trainer\u001b[0m\u001b[0;34m\u001b[0m\u001b[0m\n\u001b[0m",
      "\u001b[0;32m/Users/brandon/Desktop/Stanford/Classes/CS229/Trainer/ai_trainer/ai_trainer.py\u001b[0m in \u001b[0;36m<module>\u001b[0;34m()\u001b[0m\n\u001b[1;32m     15\u001b[0m \u001b[0;32mimport\u001b[0m \u001b[0mpu_featurizer\u001b[0m \u001b[0;32mas\u001b[0m \u001b[0mpfz\u001b[0m\u001b[0;34m\u001b[0m\u001b[0m\n\u001b[1;32m     16\u001b[0m \u001b[0;32mimport\u001b[0m \u001b[0mutils\u001b[0m \u001b[0;32mas\u001b[0m \u001b[0mut\u001b[0m\u001b[0;34m\u001b[0m\u001b[0m\n\u001b[0;32m---> 17\u001b[0;31m \u001b[0;32mimport\u001b[0m \u001b[0mresult_interpretation\u001b[0m \u001b[0;32mas\u001b[0m \u001b[0madvice\u001b[0m\u001b[0;34m\u001b[0m\u001b[0m\n\u001b[0m\u001b[1;32m     18\u001b[0m \u001b[0;34m\u001b[0m\u001b[0m\n\u001b[1;32m     19\u001b[0m \u001b[0;31m#=====[ Import Data ]=====\u001b[0m\u001b[0;34m\u001b[0m\u001b[0;34m\u001b[0m\u001b[0m\n",
      "\u001b[0;32m/Users/brandon/Desktop/Stanford/Classes/CS229/Trainer/ai_trainer/result_interpretation.py\u001b[0m in \u001b[0;36m<module>\u001b[0;34m()\u001b[0m\n\u001b[1;32m      1\u001b[0m \u001b[0;32mfrom\u001b[0m \u001b[0mcollections\u001b[0m \u001b[0;32mimport\u001b[0m \u001b[0mCounter\u001b[0m\u001b[0;34m\u001b[0m\u001b[0m\n\u001b[0;32m----> 2\u001b[0;31m \u001b[0;32mimport\u001b[0m \u001b[0madvice_messages\u001b[0m\u001b[0;34m\u001b[0m\u001b[0m\n\u001b[0m\u001b[1;32m      3\u001b[0m \u001b[0;34m\u001b[0m\u001b[0m\n\u001b[1;32m      4\u001b[0m \u001b[0;32mdef\u001b[0m \u001b[0madvice\u001b[0m\u001b[0;34m(\u001b[0m\u001b[0mexercise\u001b[0m\u001b[0;34m,\u001b[0m \u001b[0mresults\u001b[0m\u001b[0;34m)\u001b[0m\u001b[0;34m:\u001b[0m\u001b[0;34m\u001b[0m\u001b[0m\n\u001b[1;32m      5\u001b[0m         \u001b[0mmessages\u001b[0m \u001b[0;34m=\u001b[0m \u001b[0madvice_messages\u001b[0m\u001b[0;34m.\u001b[0m\u001b[0mmessages\u001b[0m\u001b[0;34m[\u001b[0m\u001b[0mexercise\u001b[0m\u001b[0;34m]\u001b[0m\u001b[0;34m\u001b[0m\u001b[0m\n",
      "\u001b[0;31mImportError\u001b[0m: No module named advice_messages"
     ]
    }
   ],
   "source": [
    "import sys\n",
    "import os\n",
    "import pickle\n",
    "sys.path.append('..')\n",
    "sys.path.append('../inference')\n",
    "sys.path.append('../data')\n",
    "sys.path.append('../feedback')\n",
    "from ai_trainer import Personal_Trainer"
   ]
  },
  {
   "cell_type": "markdown",
   "metadata": {},
   "source": [
    "#Step 1: Instantiate personal trainer and load classifiers"
   ]
  },
  {
   "cell_type": "code",
   "execution_count": null,
   "metadata": {
    "collapsed": false
   },
   "outputs": [],
   "source": [
    "pt = Personal_Trainer({'squat':'NeckY','pushup':'NeckY'})\n",
    "\n",
    "#=====[ Get classifiers from pickled file ]=====\n",
    "squat_classifiers = pickle.load(open(os.path.join('../inference/','squat_classifiers.p'),'rb'))\n",
    "pushup_classifiers = pickle.load(open(os.path.join('../inference/','pushup_classifiers.p'),'rb'))\n",
    "\n",
    "#=====[ Set classifiers for our trainer ]=====\n",
    "pt.set_classifiers('squat',squat_classifiers)\n",
    "pt.set_classifiers('pushup',pushup_classifiers)"
   ]
  },
  {
   "cell_type": "markdown",
   "metadata": {},
   "source": [
    "#Step 2: Analyze Reps from raw coordinate data file"
   ]
  },
  {
   "cell_type": "code",
   "execution_count": 2,
   "metadata": {
    "collapsed": false
   },
   "outputs": [
    {
     "ename": "NameError",
     "evalue": "name 'pt' is not defined",
     "output_type": "error",
     "traceback": [
      "\u001b[0;31m---------------------------------------------------------------------------\u001b[0m",
      "\u001b[0;31mNameError\u001b[0m                                 Traceback (most recent call last)",
      "\u001b[0;32m<ipython-input-2-ecab2d79db57>\u001b[0m in \u001b[0;36m<module>\u001b[0;34m()\u001b[0m\n\u001b[0;32m----> 1\u001b[0;31m \u001b[0msquats\u001b[0m \u001b[0;34m=\u001b[0m \u001b[0mpt\u001b[0m\u001b[0;34m.\u001b[0m\u001b[0manalyze_reps\u001b[0m\u001b[0;34m(\u001b[0m\u001b[0;34m'squat'\u001b[0m\u001b[0;34m,\u001b[0m\u001b[0;34m'../data/raw_data/squat_pushupData_10to20/squatData15.txt'\u001b[0m\u001b[0;34m)\u001b[0m\u001b[0;34m\u001b[0m\u001b[0m\n\u001b[0m\u001b[1;32m      2\u001b[0m \u001b[0mpushups\u001b[0m \u001b[0;34m=\u001b[0m \u001b[0mpt\u001b[0m\u001b[0;34m.\u001b[0m\u001b[0manalyze_reps\u001b[0m\u001b[0;34m(\u001b[0m\u001b[0;34m'pushup'\u001b[0m\u001b[0;34m,\u001b[0m\u001b[0;34m'../data/raw_data/squat_pushupData_10to20/pushupData15.txt'\u001b[0m\u001b[0;34m)\u001b[0m\u001b[0;34m\u001b[0m\u001b[0m\n\u001b[1;32m      3\u001b[0m \u001b[0;34m\u001b[0m\u001b[0m\n\u001b[1;32m      4\u001b[0m \u001b[0;31m#=====[ Extract feature vectors from squats and pushups for each corresponding exercise component  ]=====\u001b[0m\u001b[0;34m\u001b[0m\u001b[0;34m\u001b[0m\u001b[0m\n\u001b[1;32m      5\u001b[0m \u001b[0msquat_feature_vectors\u001b[0m \u001b[0;34m=\u001b[0m \u001b[0mpt\u001b[0m\u001b[0;34m.\u001b[0m\u001b[0mget_prediction_features\u001b[0m\u001b[0;34m(\u001b[0m\u001b[0;34m'squat'\u001b[0m\u001b[0;34m,\u001b[0m\u001b[0msquats\u001b[0m\u001b[0;34m)\u001b[0m\u001b[0;34m\u001b[0m\u001b[0m\n",
      "\u001b[0;31mNameError\u001b[0m: name 'pt' is not defined"
     ]
    }
   ],
   "source": [
    "squats = pt.analyze_reps('squat','../data/raw_data/squat_pushupData_10to20/squatData15.txt')\n",
    "pushups = pt.analyze_reps('pushup','../data/raw_data/squat_pushupData_10to20/pushupData15.txt')\n",
    "\n",
    "#=====[ Extract feature vectors from squats and pushups for each corresponding exercise component  ]=====\n",
    "squat_feature_vectors = pt.get_prediction_features('squat',squats)\n",
    "pushup_feature_vectors = pt.get_prediction_features('pushup',pushups)"
   ]
  },
  {
   "cell_type": "code",
   "execution_count": 4,
   "metadata": {
    "collapsed": false
   },
   "outputs": [
    {
     "name": "stdout",
     "output_type": "stream",
     "text": [
      "[SUCCESS] ---------- > bend_hips_knees: reps classified\n",
      "\n",
      "bend_hips_knees :\n",
      "[0 0 0 0 0 0 0 0 0 0] \n",
      "\n",
      "[SUCCESS] ---------- > stance_width: reps classified\n",
      "\n",
      "stance_width :\n",
      "[ 0  0 -1  0  0  0  0  0  0  0] \n",
      "\n",
      "[SUCCESS] ---------- > squat_depth: reps classified\n",
      "\n",
      "squat_depth :\n",
      "[0 0 1 1 1 1 0 0 0 0] \n",
      "\n",
      "[SUCCESS] ---------- > knees_over_toes: reps classified\n",
      "\n",
      "knees_over_toes :\n",
      "[1 1 1 0 0 0 1 1 1 1] \n",
      "\n",
      "[SUCCESS] ---------- > back_hip_angle: reps classified\n",
      "\n",
      "back_hip_angle :\n",
      "[ 1  0 -1  0  0  0  0  0  0  1] \n",
      "\n"
     ]
    }
   ],
   "source": [
    "#=====[ Run classification on each squat component and report results  ]=====\n",
    "for key in squat_feature_vectors:\n",
    "    X = squat_feature_vectors[key]\n",
    "    classification = pt.classify('squat', key, X)\n",
    "    print '\\n', key ,':\\n', classification, '\\n'"
   ]
  },
  {
   "cell_type": "code",
   "execution_count": 5,
   "metadata": {
    "collapsed": false
   },
   "outputs": [
    {
     "name": "stdout",
     "output_type": "stream",
     "text": [
      "[SUCCESS] ---------- > head_back: reps classified\n",
      "\n",
      "head_back :\n",
      "[0 0 0 0 0 1 0 1 1 1 1 1] \n",
      "\n",
      "[SUCCESS] ---------- > elbow_angle: reps classified\n",
      "\n",
      "elbow_angle :\n",
      "[0 0 0 0 0 0 0 0 0 0 0 1] \n",
      "\n",
      "[SUCCESS] ---------- > knees_straight: reps classified\n",
      "\n",
      "knees_straight :\n",
      "[0 0 0 0 0 0 0 0 0 0 0 0] \n",
      "\n"
     ]
    }
   ],
   "source": [
    "#=====[ Run classification on each pushup component and report results  ]=====\n",
    "for key in pushup_feature_vectors:\n",
    "    X = pushup_feature_vectors[key]\n",
    "    classification = pt.classify('pushup', key, X)\n",
    "    print '\\n', key ,':\\n', classification, '\\n'"
   ]
  }
 ],
 "metadata": {
  "kernelspec": {
   "display_name": "Python 2",
   "language": "python",
   "name": "python2"
  },
  "language_info": {
   "codemirror_mode": {
    "name": "ipython",
    "version": 2
   },
   "file_extension": ".py",
   "mimetype": "text/x-python",
   "name": "python",
   "nbconvert_exporter": "python",
   "pygments_lexer": "ipython2",
   "version": "2.7.10"
  }
 },
 "nbformat": 4,
 "nbformat_minor": 0
}

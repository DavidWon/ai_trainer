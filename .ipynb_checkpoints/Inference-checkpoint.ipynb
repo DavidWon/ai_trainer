{
 "cells": [
  {
   "cell_type": "code",
   "execution_count": 1,
   "metadata": {
    "collapsed": false
   },
   "outputs": [],
   "source": [
    "import numpy as np\n",
    "import pandas as pd\n",
    "import matplotlib.pyplot as plt\n",
    "from ai_trainer import Personal_Trainer\n",
    "import squat_separation as ss\n",
    "import sys\n",
    "import pickle\n",
    "\n",
    "sys.path.append('data')\n",
    "\n",
    "%matplotlib inline"
   ]
  },
  {
   "cell_type": "markdown",
   "metadata": {},
   "source": [
    "#Step 1: Instantiate our personal trainer and load preprocessed data"
   ]
  },
  {
   "cell_type": "code",
   "execution_count": 2,
   "metadata": {
    "collapsed": false
   },
   "outputs": [],
   "source": [
    "pt = Personal_Trainer('NeckY')\n",
    "pt.load_squats('dataSansMarilyn.p')"
   ]
  },
  {
   "cell_type": "markdown",
   "metadata": {},
   "source": [
    "#Step 2: Extract features "
   ]
  },
  {
   "cell_type": "code",
   "execution_count": 3,
   "metadata": {
    "collapsed": true
   },
   "outputs": [],
   "source": [
    "X, y = pt.extract_features()"
   ]
  },
  {
   "cell_type": "code",
   "execution_count": 4,
   "metadata": {
    "collapsed": false
   },
   "outputs": [
    {
     "name": "stdout",
     "output_type": "stream",
     "text": [
      "(67, 200) (67,)\n"
     ]
    }
   ],
   "source": [
    "print X.shape, y.shape"
   ]
  },
  {
   "cell_type": "markdown",
   "metadata": {},
   "source": [
    "#Step 3: Classification"
   ]
  },
  {
   "cell_type": "markdown",
   "metadata": {},
   "source": [
    "##Scale features and define testing function"
   ]
  },
  {
   "cell_type": "code",
   "execution_count": 5,
   "metadata": {
    "collapsed": true
   },
   "outputs": [],
   "source": [
    "from sklearn import preprocessing\n",
    "from sklearn import cross_validation\n",
    "from sklearn import metrics\n",
    "\n",
    "X = preprocessing.StandardScaler().fit_transform(X)\n",
    "\n",
    "def predict_labels(X, y, X_test, clf_class, **kwargs):\n",
    "    clf = clf_class(**kwargs)\n",
    "    clf.fit(X ,y)\n",
    "    return clf.predict(X_test)\n",
    "\n",
    "def stratified_cv(X, y, clf_class, shuffle=True, n_folds=10, **kwargs):\n",
    "    stratified_k_fold = cross_validation.StratifiedKFold(y, n_folds=n_folds, shuffle=shuffle)\n",
    "    y_pred = y.copy()\n",
    "    for i, j in stratified_k_fold:\n",
    "        X_train, X_test = X[i], X[j]\n",
    "        y_train = y[i]\n",
    "        clf = clf_class(**kwargs)\n",
    "        clf.fit(X_train,y_train)\n",
    "        y_pred[j] = clf.predict(X_test)\n",
    "    return y_pred\n"
   ]
  },
  {
   "cell_type": "markdown",
   "metadata": {},
   "source": [
    "##Test Various Classifiers"
   ]
  },
  {
   "cell_type": "code",
   "execution_count": 21,
   "metadata": {
    "collapsed": false
   },
   "outputs": [
    {
     "name": "stdout",
     "output_type": "stream",
     "text": [
      "Logistic Regression:           0.93\n",
      "Support vector machine(SVM):   0.99\n",
      "Random Forest Classifier:      0.99\n"
     ]
    }
   ],
   "source": [
    "from sklearn import ensemble\n",
    "from sklearn import svm\n",
    "from sklearn import neighbors\n",
    "from sklearn import linear_model\n",
    "\n",
    "print('Logistic Regression:           {:.2f}'.format(metrics.accuracy_score(y, stratified_cv(X, y, linear_model.LogisticRegression))))\n",
    "print('Support vector machine(SVM):   {:.2f}'.format(metrics.accuracy_score(y, stratified_cv(X, y, svm.SVC))))\n",
    "print('Random Forest Classifier:      {:.2f}'.format(metrics.accuracy_score(y, stratified_cv(X, y, ensemble.RandomForestClassifier))))"
   ]
  },
  {
   "cell_type": "code",
   "execution_count": 22,
   "metadata": {
    "collapsed": false
   },
   "outputs": [
    {
     "data": {
      "text/plain": [
       "array([[ 0.02636415,  0.48230911, -0.06991681, ...,  0.44497609,\n",
       "        -0.3564256 ,  0.97519171],\n",
       "       [ 0.91843163,  0.66092117,  0.91313176, ...,  0.79032341,\n",
       "        -0.22778033,  0.32736887],\n",
       "       [-0.27395378,  0.37759727, -0.12787201, ...,  0.29473095,\n",
       "        -0.40954111,  1.22255229],\n",
       "       ..., \n",
       "       [-2.11938174, -1.69552161, -1.68099376, ..., -0.88722087,\n",
       "        -0.2779224 , -1.06069174],\n",
       "       [-0.56994688, -0.67640107,  1.17023387, ..., -0.71880293,\n",
       "        -0.22756963, -0.94320282],\n",
       "       [-0.58438269, -0.85998521,  1.4204034 , ..., -0.91697945,\n",
       "        -0.28513285, -0.83433079]])"
      ]
     },
     "execution_count": 22,
     "metadata": {},
     "output_type": "execute_result"
    }
   ],
   "source": [
    "import coords3 as cd3\n",
    "\n",
    "test_squats = pt.analyze_squats(cd3.data,cd3.label)\n",
    "X_test,y_test = extract_features(test_squats)\n",
    "\n",
    "X_test = preprocessing.StandardScaler().fit_transform(X_test)\n",
    "\n",
    "print('Logistic Regression:      {:.2f}'.format(metrics.accuracy_score(y_test, predict_labels(X, y, X_test, linear_model.LogisticRegression)))\n",
    "print('Logistic Regression:      {:.2f}'.format(metrics.accuracy_score(y_test, predict_labels(X, y, X_test, svm.SVC)))\n",
    "print('Logistic Regression:      {:.2f}'.format(metrics.accuracy_score(y_test, predict_labels(X, y, X_test, ensemble.RandomForestClassifier)))\n",
    "print('Support vector machine(SVM):      {:.2f}'.format(metrics.accuracy_score(y_test,estimator.predict(X_test))))\n"
   ]
  },
  {
   "cell_type": "code",
   "execution_count": null,
   "metadata": {
    "collapsed": true
   },
   "outputs": [],
   "source": []
  }
 ],
 "metadata": {
  "kernelspec": {
   "display_name": "Python 2",
   "language": "python",
   "name": "python2"
  },
  "language_info": {
   "codemirror_mode": {
    "name": "ipython",
    "version": 2
   },
   "file_extension": ".py",
   "mimetype": "text/x-python",
   "name": "python",
   "nbconvert_exporter": "python",
   "pygments_lexer": "ipython2",
   "version": "2.7.10"
  }
 },
 "nbformat": 4,
 "nbformat_minor": 0
}

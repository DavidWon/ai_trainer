{
 "cells": [
  {
   "cell_type": "code",
   "execution_count": 1,
   "metadata": {
    "collapsed": true
   },
   "outputs": [],
   "source": [
    "import numpy as np\n",
    "import pandas as pd\n",
    "import matplotlib.pyplot as plt\n",
    "from ai_trainer import Personal_Trainer\n",
    "import squat_separation as ss\n",
    "import sys\n",
    "import pickle\n",
    "\n",
    "sys.path.append('data')\n",
    "\n",
    "%matplotlib inline"
   ]
  },
  {
   "cell_type": "code",
   "execution_count": 2,
   "metadata": {
    "collapsed": true
   },
   "outputs": [],
   "source": [
    "#=====[ Import all of our data ]=====\n",
    "\n",
    "import coords1 as cd1\n",
    "import coords2 as cd2\n",
    "import coords3 as cd3\n",
    "import coords4 as cd4\n",
    "import coords5 as cd5\n",
    "import coords6 as cd6\n",
    "import coords7 as cd7\n",
    "import coords8 as cd8\n",
    "import coords9 as cd9"
   ]
  },
  {
   "cell_type": "code",
   "execution_count": 3,
   "metadata": {
    "collapsed": true
   },
   "outputs": [],
   "source": [
    "#data = [cd1.data, cd2.data, cd3.data, cd4.data, cd5.data, cd6.data, cd7.data, cd8.data, cd9.data]\n",
    "#labels = [cd1.label, cd2.label, cd3.label, cd4.label, cd5.label, cd6.label, cd7.label, cd8.label, cd9.label]\n",
    "\n",
    "data = [cd1.data, cd2.data, cd5.data, cd6.data, cd7.data, cd8.data]\n",
    "labels = [cd1.label, cd2.label, cd5.label, cd6.label, cd7.label, cd8.label]"
   ]
  },
  {
   "cell_type": "code",
   "execution_count": 4,
   "metadata": {
    "collapsed": false
   },
   "outputs": [
    {
     "name": "stdout",
     "output_type": "stream",
     "text": [
      "9\n",
      "9\n",
      "9\n",
      "9\n",
      "7\n",
      "1\n"
     ]
    },
    {
     "name": "stderr",
     "output_type": "stream",
     "text": [
      "normalization.py:35: SettingWithCopyWarning: \n",
      "A value is trying to be set on a copy of a slice from a DataFrame.\n",
      "Try using .loc[row_indexer,col_indexer] = value instead\n",
      "\n",
      "See the the caveats in the documentation: http://pandas.pydata.org/pandas-docs/stable/indexing.html#indexing-view-versus-copy\n",
      "  squat[col] = squat[col].apply(lambda x: (x - x_midpoint))\n",
      "normalization.py:33: SettingWithCopyWarning: \n",
      "A value is trying to be set on a copy of a slice from a DataFrame.\n",
      "Try using .loc[row_indexer,col_indexer] = value instead\n",
      "\n",
      "See the the caveats in the documentation: http://pandas.pydata.org/pandas-docs/stable/indexing.html#indexing-view-versus-copy\n",
      "  squat[col] = squat[col].apply(lambda y: ((y - y_head)/scale))\n"
     ]
    }
   ],
   "source": [
    "pt = Personal_Trainer('NeckY')\n",
    "\n",
    "#=====[ Analyze and add squats to personal trainer for each data st ]=====\n",
    "for index, datum in enumerate(data):\n",
    "    \n",
    "    if index == len(data) - 1:\n",
    "        epsilon = 0.15\n",
    "    else: \n",
    "        epsilon = 0.05\n",
    "        \n",
    "    squats = pt.analyze_squats(datum, labels[index], epsilon)\n",
    "    print len(squats)\n",
    "    pt.add_squats(squats)"
   ]
  },
  {
   "cell_type": "code",
   "execution_count": 5,
   "metadata": {
    "collapsed": true
   },
   "outputs": [],
   "source": [
    "#=====[ Store data Set ]=====\n",
    "pickle.dump(pt.get_squats(),open('dataSansMarilyn.p','wb'))"
   ]
  },
  {
   "cell_type": "code",
   "execution_count": null,
   "metadata": {
    "collapsed": true
   },
   "outputs": [],
   "source": []
  }
 ],
 "metadata": {
  "kernelspec": {
   "display_name": "Python 2",
   "language": "python",
   "name": "python2"
  },
  "language_info": {
   "codemirror_mode": {
    "name": "ipython",
    "version": 2
   },
   "file_extension": ".py",
   "mimetype": "text/x-python",
   "name": "python",
   "nbconvert_exporter": "python",
   "pygments_lexer": "ipython2",
   "version": "2.7.10"
  }
 },
 "nbformat": 4,
 "nbformat_minor": 0
}

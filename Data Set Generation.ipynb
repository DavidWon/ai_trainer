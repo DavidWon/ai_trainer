{
 "cells": [
  {
   "cell_type": "code",
   "execution_count": 9,
   "metadata": {
    "collapsed": false
   },
   "outputs": [],
   "source": [
    "import numpy as np\n",
    "import pandas as pd\n",
    "import matplotlib.pyplot as plt\n",
    "from ai_trainer import Personal_Trainer\n",
    "import squat_separation as ss\n",
    "import sys\n",
    "import pickle\n",
    "import os\n",
    "import label_columns\n",
    "\n",
    "sys.path.append('data')\n",
    "sys.path.append('data/squat_coords')\n",
    "\n",
    "%matplotlib inline"
   ]
  },
  {
   "cell_type": "code",
   "execution_count": 2,
   "metadata": {
    "collapsed": true
   },
   "outputs": [],
   "source": [
    "#=====[ Import all of our data ]=====\n",
    "import coords1 as cd1\n",
    "import coords2 as cd2\n",
    "import coords3 as cd3\n",
    "import coords4 as cd4\n",
    "import coords5 as cd5\n",
    "import coords6 as cd6\n",
    "import coords7 as cd7\n",
    "import coords8 as cd8\n",
    "import coords9 as cd9"
   ]
  },
  {
   "cell_type": "code",
   "execution_count": 3,
   "metadata": {
    "collapsed": true
   },
   "outputs": [],
   "source": [
    "#data = [cd1.data, cd2.data, cd3.data, cd4.data, cd5.data, cd6.data, cd7.data, cd8.data, cd9.data]\n",
    "#labels = [cd1.label, cd2.label, cd3.label, cd4.label, cd5.label, cd6.label, cd7.label, cd8.label, cd9.label]\n",
    "\n",
    "data = [cd1.data, cd2.data, cd5.data, cd6.data, cd7.data, cd8.data]\n",
    "labels = [cd1.label, cd2.label, cd5.label, cd6.label, cd7.label, cd8.label]"
   ]
  },
  {
   "cell_type": "code",
   "execution_count": 8,
   "metadata": {
    "collapsed": false
   },
   "outputs": [],
   "source": [
    "pt = Personal_Trainer('NeckY')\n",
    "\n",
    "#=====[ Analyze and add squats to personal trainer for each data st ]=====\n",
    "for index, datum in enumerate(data):\n",
    "    \n",
    "    if index == len(data) - 1:\n",
    "        epsilon = 0.15\n",
    "    else: \n",
    "        epsilon = 0.05\n",
    "        \n",
    "    squats = pt.analyze_squats(datum, labels[index], epsilon=epsilon)\n",
    "    pt.add_squats(squats)"
   ]
  },
  {
   "cell_type": "code",
   "execution_count": 9,
   "metadata": {
    "collapsed": true
   },
   "outputs": [],
   "source": [
    "#=====[ Store data Set ]=====\n",
    "pickle.dump(pt.get_squats(),open('dataSansMarilyn.p','wb'))"
   ]
  },
  {
   "cell_type": "code",
   "execution_count": 10,
   "metadata": {
    "collapsed": false
   },
   "outputs": [],
   "source": [
    "data_dir = 'data/squat_coords'\n",
    "X = []\n",
    "file_names = []\n",
    "\n",
    "for f in os.listdir(data_dir):\n",
    "    if '10' not in f and '18' not in f and 'labels' not in f:\n",
    "        squats = pickle.load(open(os.path.join(data_dir, f),'rb'))\n",
    "        for squat in squats:\n",
    "            X.append(squat[0])\n",
    "            file_names.append(f)"
   ]
  },
  {
   "cell_type": "code",
   "execution_count": 11,
   "metadata": {
    "collapsed": true
   },
   "outputs": [],
   "source": [
    "import labels\n",
    "Y = np.concatenate([labels.labels11, labels.labels12, labels.labels13, labels.labels14, labels.labels15, labels.labels16, labels.labels17, labels.labels19, labels.labels20])\n",
    "Y = pd.DataFrame(Y,columns=label_columns.columns)"
   ]
  },
  {
   "cell_type": "code",
   "execution_count": 12,
   "metadata": {
    "collapsed": false
   },
   "outputs": [],
   "source": [
    "pickle.dump({'X':X,'Y':Y,'file_names':file_names},open('multipleClass.p','wb'))"
   ]
  },
  {
   "cell_type": "code",
   "execution_count": 13,
   "metadata": {
    "collapsed": true
   },
   "outputs": [],
   "source": [
    "data = pickle.load(open('multipleClass.p','rb'))"
   ]
  },
  {
   "cell_type": "code",
   "execution_count": null,
   "metadata": {
    "collapsed": true
   },
   "outputs": [],
   "source": []
  }
 ],
 "metadata": {
  "kernelspec": {
   "display_name": "Python 2",
   "language": "python",
   "name": "python2"
  },
  "language_info": {
   "codemirror_mode": {
    "name": "ipython",
    "version": 2
   },
   "file_extension": ".py",
   "mimetype": "text/x-python",
   "name": "python",
   "nbconvert_exporter": "python",
   "pygments_lexer": "ipython2",
   "version": "2.7.10"
  }
 },
 "nbformat": 4,
 "nbformat_minor": 0
}

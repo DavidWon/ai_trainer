{
 "cells": [
  {
   "cell_type": "code",
   "execution_count": 2,
   "metadata": {
    "collapsed": false
   },
   "outputs": [],
   "source": [
    "import numpy as np\n",
    "import pandas as pd\n",
    "import matplotlib.pyplot as plt\n",
    "from ai_trainer import Personal_Trainer\n",
    "import squat_separation as ss\n",
    "import sys\n",
    "import os\n",
    "import featurizer as fz\n",
    "from sklearn import preprocessing\n",
    "\n",
    "sys.path.append('data/squat_pushupData_10to20')\n",
    "\n",
    "%matplotlib inline"
   ]
  },
  {
   "cell_type": "markdown",
   "metadata": {},
   "source": [
    "#Step 1: Load trainer and squats"
   ]
  },
  {
   "cell_type": "code",
   "execution_count": 3,
   "metadata": {
    "collapsed": true
   },
   "outputs": [],
   "source": [
    "pt = Personal_Trainer('NeckY')\n",
    "pt.load_advanced_squats('multipleClass.p')"
   ]
  },
  {
   "cell_type": "markdown",
   "metadata": {},
   "source": [
    "#Step 2: Extract Features"
   ]
  },
  {
   "cell_type": "code",
   "execution_count": 4,
   "metadata": {
    "collapsed": false
   },
   "outputs": [
    {
     "name": "stdout",
     "output_type": "stream",
     "text": [
      "setting an array element with a sequence. head_alignment\n"
     ]
    }
   ],
   "source": [
    "advanced_feature_vector, labels = pt.extract_advanced_features()"
   ]
  },
  {
   "cell_type": "code",
   "execution_count": 5,
   "metadata": {
    "collapsed": true
   },
   "outputs": [],
   "source": [
    "toIgnore = ['stance_width', 'back_straight','back_hip_angle']"
   ]
  },
  {
   "cell_type": "markdown",
   "metadata": {},
   "source": [
    "#Step 3: Extract X and Y"
   ]
  },
  {
   "cell_type": "code",
   "execution_count": 6,
   "metadata": {
    "collapsed": false,
    "scrolled": false
   },
   "outputs": [
    {
     "name": "stdout",
     "output_type": "stream",
     "text": [
      "0 bend_hips_knees\n",
      "1 stance_alignment\n",
      "2 squat_depth\n",
      "3 knees_over_toes\n"
     ]
    }
   ],
   "source": [
    "X = {}\n",
    "Y = {}\n",
    "for index, feature in enumerate(advanced_feature_vector):\n",
    "    training_data = np.array([training_example for training_example in advanced_feature_vector[feature]])\n",
    "    try:\n",
    "        if feature not in toIgnore:\n",
    "            X[feature] = preprocessing.StandardScaler().fit_transform(training_data)\n",
    "            Y[feature] = labels[index]\n",
    "    except Exception as e:\n",
    "        print e, feature"
   ]
  },
  {
   "cell_type": "code",
   "execution_count": null,
   "metadata": {
    "collapsed": true
   },
   "outputs": [],
   "source": []
  }
 ],
 "metadata": {
  "kernelspec": {
   "display_name": "Python 2",
   "language": "python",
   "name": "python2"
  },
  "language_info": {
   "codemirror_mode": {
    "name": "ipython",
    "version": 2
   },
   "file_extension": ".py",
   "mimetype": "text/x-python",
   "name": "python",
   "nbconvert_exporter": "python",
   "pygments_lexer": "ipython2",
   "version": "2.7.10"
  }
 },
 "nbformat": 4,
 "nbformat_minor": 0
}
